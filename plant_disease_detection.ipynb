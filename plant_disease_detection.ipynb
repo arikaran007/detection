{
  "nbformat": 4,
  "nbformat_minor": 0,
  "metadata": {
    "colab": {
      "provenance": [],
      "gpuType": "T4",
      "mount_file_id": "1LVAI971rogQXIItWq9iOOobNfdhUZpCB",
      "authorship_tag": "ABX9TyOBC4udkFRaSS5RzMoqnloY",
      "include_colab_link": true
    },
    "kernelspec": {
      "name": "python3",
      "display_name": "Python 3"
    },
    "language_info": {
      "name": "python"
    },
    "accelerator": "GPU"
  },
  "cells": [
    {
      "cell_type": "markdown",
      "metadata": {
        "id": "view-in-github",
        "colab_type": "text"
      },
      "source": [
        "<a href=\"https://colab.research.google.com/github/arikaran007/detection/blob/main/plant_disease_detection.ipynb\" target=\"_parent\"><img src=\"https://colab.research.google.com/assets/colab-badge.svg\" alt=\"Open In Colab\"/></a>"
      ]
    },
    {
      "cell_type": "code",
      "execution_count": null,
      "metadata": {
        "id": "3a9JSCPdwutr",
        "colab": {
          "base_uri": "https://localhost:8080/"
        },
        "outputId": "c9559268-3d30-4782-e739-2911f07bc068"
      },
      "outputs": [
        {
          "output_type": "stream",
          "name": "stdout",
          "text": [
            "done\n"
          ]
        }
      ],
      "source": [
        "from zipfile import ZipFile\n",
        "file_name='/content/drive/MyDrive/archive (4).zip'\n",
        "\n",
        "with ZipFile(file_name,'r') as zip:\n",
        "  zip.extractall()\n",
        "  print('done')"
      ]
    },
    {
      "cell_type": "code",
      "source": [
        "import pandas as pd\n",
        "import numpy as np\n",
        "import matplotlib.pyplot as plt\n",
        "import tensorflow as tf\n",
        "from tensorflow.keras import models,layers,datasets\n",
        "from tensorflow.keras.preprocessing.image import ImageDataGenerator"
      ],
      "metadata": {
        "id": "l1REzDARx3We"
      },
      "execution_count": null,
      "outputs": []
    },
    {
      "cell_type": "code",
      "source": [
        "IMAGE_SIZE=256\n",
        "CHANNELS=3\n"
      ],
      "metadata": {
        "id": "_MSwUC3-yQ01"
      },
      "execution_count": null,
      "outputs": []
    },
    {
      "cell_type": "code",
      "source": [
        "train_datagen=ImageDataGenerator(\n",
        "    rescale=1.0/255,\n",
        "    horizontal_flip=True,\n",
        "    rotation_range=10\n",
        "\n",
        ")\n",
        "\n",
        "train_generator=train_datagen.flow_from_directory(\n",
        "         '/content/New Plant Diseases Dataset(Augmented)/New Plant Diseases Dataset(Augmented)/train',\n",
        "        target_size=(IMAGE_SIZE,IMAGE_SIZE),\n",
        "        batch_size=32,\n",
        "        class_mode='sparse'\n",
        "         )"
      ],
      "metadata": {
        "colab": {
          "base_uri": "https://localhost:8080/"
        },
        "id": "CxGL3ucdye_-",
        "outputId": "ed025aae-f218-4b6e-aa8f-4d2e8da1a813"
      },
      "execution_count": null,
      "outputs": [
        {
          "output_type": "stream",
          "name": "stdout",
          "text": [
            "Found 70295 images belonging to 38 classes.\n"
          ]
        }
      ]
    },
    {
      "cell_type": "code",
      "source": [
        "validation_datagen = ImageDataGenerator(\n",
        "        rescale=1./255,\n",
        "        rotation_range=10,\n",
        "        horizontal_flip=True)\n",
        "\n",
        "\n",
        "validation_generator=validation_datagen.flow_from_directory(\n",
        "         '/content/New Plant Diseases Dataset(Augmented)/New Plant Diseases Dataset(Augmented)/valid',\n",
        "        target_size=(IMAGE_SIZE,IMAGE_SIZE),\n",
        "        batch_size=32,\n",
        "        class_mode='sparse'\n",
        "         )"
      ],
      "metadata": {
        "colab": {
          "base_uri": "https://localhost:8080/"
        },
        "id": "yXsKqmZ9ytfy",
        "outputId": "a175f565-c071-4196-fc1d-060cedbb321c"
      },
      "execution_count": null,
      "outputs": [
        {
          "output_type": "stream",
          "name": "stdout",
          "text": [
            "Found 17572 images belonging to 38 classes.\n"
          ]
        }
      ]
    },
    {
      "cell_type": "code",
      "source": [
        "count=0\n",
        "for image_batch, label_batch in train_generator:\n",
        "#     print(label_batch)\n",
        "    print(image_batch[0])\n",
        "    break"
      ],
      "metadata": {
        "colab": {
          "base_uri": "https://localhost:8080/"
        },
        "id": "lXJGpkLvy8Ui",
        "outputId": "705b1f65-9998-4ef6-8050-4382a21716a1"
      },
      "execution_count": null,
      "outputs": [
        {
          "output_type": "stream",
          "name": "stdout",
          "text": [
            "[[[0.72156864 0.6745098  0.68235296]\n",
            "  [0.72156864 0.6745098  0.68235296]\n",
            "  [0.72156864 0.6745098  0.68235296]\n",
            "  ...\n",
            "  [0.5694231  0.52236426 0.53805053]\n",
            "  [0.5923152  0.5452563  0.5609426 ]\n",
            "  [0.59607846 0.54901963 0.5647059 ]]\n",
            "\n",
            " [[0.7209414  0.6738826  0.68172574]\n",
            "  [0.7210674  0.67400855 0.68185174]\n",
            "  [0.7211934  0.67413455 0.6819777 ]\n",
            "  ...\n",
            "  [0.57005286 0.522994   0.53868026]\n",
            "  [0.5930708  0.546012   0.56169826]\n",
            "  [0.59607846 0.54901963 0.5647059 ]]\n",
            "\n",
            " [[0.7170219  0.66996306 0.6778062 ]\n",
            "  [0.7171479  0.67008907 0.6779322 ]\n",
            "  [0.7172738  0.67021495 0.6780581 ]\n",
            "  ...\n",
            "  [0.5706825  0.5236237  0.53931   ]\n",
            "  [0.59382653 0.5467677  0.562454  ]\n",
            "  [0.59607846 0.54901963 0.5647059 ]]\n",
            "\n",
            " ...\n",
            "\n",
            " [[0.505505   0.46236777 0.48589718]\n",
            "  [0.5019608  0.45882356 0.48235297]\n",
            "  [0.5023341  0.45919687 0.48272628]\n",
            "  ...\n",
            "  [0.2627451  0.22352943 0.21960786]\n",
            "  [0.2627451  0.22352943 0.21960786]\n",
            "  [0.2627451  0.22352943 0.21960786]]\n",
            "\n",
            " [[0.5053791  0.46224183 0.48577124]\n",
            "  [0.5019608  0.45882356 0.48235297]\n",
            "  [0.50246006 0.4593228  0.48285222]\n",
            "  ...\n",
            "  [0.26629135 0.22707565 0.22315408]\n",
            "  [0.2661654  0.22694972 0.22302815]\n",
            "  [0.26603946 0.22682378 0.22290221]]\n",
            "\n",
            " [[0.50525314 0.46211588 0.4856453 ]\n",
            "  [0.5019608  0.45882356 0.48235297]\n",
            "  [0.502586   0.45944875 0.48297817]\n",
            "  ...\n",
            "  [0.2737551  0.23453942 0.23061785]\n",
            "  [0.2735032  0.23428755 0.23036598]\n",
            "  [0.27325135 0.23403566 0.23011409]]]\n"
          ]
        }
      ]
    },
    {
      "cell_type": "code",
      "source": [
        "for image_batch, label_batch in validation_generator:\n",
        "    print(image_batch[0])\n",
        "    break\n"
      ],
      "metadata": {
        "colab": {
          "base_uri": "https://localhost:8080/"
        },
        "id": "qHas8Ogfy_CW",
        "outputId": "d274eebf-9668-4c33-ba5d-87dee80726b0"
      },
      "execution_count": null,
      "outputs": [
        {
          "output_type": "stream",
          "name": "stdout",
          "text": [
            "[[[0.51121175 0.48768234 0.53474116]\n",
            "  [0.59867424 0.5751448  0.62220365]\n",
            "  [0.60511184 0.5815824  0.62864125]\n",
            "  ...\n",
            "  [0.5444585  0.5209291  0.5679879 ]\n",
            "  [0.6035007  0.5799713  0.62703013]\n",
            "  [0.61674213 0.5932127  0.64027154]]\n",
            "\n",
            " [[0.51393926 0.49040982 0.5374687 ]\n",
            "  [0.58305484 0.55952543 0.60658425]\n",
            "  [0.60670096 0.58317155 0.63023037]\n",
            "  ...\n",
            "  [0.6274943  0.60396487 0.6510237 ]\n",
            "  [0.5900448  0.5665154  0.6135742 ]\n",
            "  [0.5842059  0.5606765  0.60773534]]\n",
            "\n",
            " [[0.5327243  0.5091949  0.55625373]\n",
            "  [0.5244134  0.500884   0.5479429 ]\n",
            "  [0.610233   0.5867036  0.6337624 ]\n",
            "  ...\n",
            "  [0.6137866  0.59025717 0.637316  ]\n",
            "  [0.55634224 0.53281283 0.57987165]\n",
            "  [0.54653245 0.52300304 0.57006186]]\n",
            "\n",
            " ...\n",
            "\n",
            " [[0.6623942  0.64670795 0.7016099 ]\n",
            "  [0.66110665 0.6454204  0.70032233]\n",
            "  [0.65220976 0.6365235  0.69142544]\n",
            "  ...\n",
            "  [0.6983835  0.68269724 0.7375992 ]\n",
            "  [0.7292061  0.7135198  0.76842177]\n",
            "  [0.7384505  0.72276425 0.7776662 ]]\n",
            "\n",
            " [[0.6805679  0.66488165 0.7197836 ]\n",
            "  [0.6788668  0.66318053 0.7180825 ]\n",
            "  [0.66897815 0.6532919  0.70819384]\n",
            "  ...\n",
            "  [0.7062131  0.69052684 0.7454288 ]\n",
            "  [0.7352362  0.71954995 0.7744519 ]\n",
            "  [0.72501796 0.7093317  0.7642337 ]]\n",
            "\n",
            " [[0.6628541  0.6471678  0.7020698 ]\n",
            "  [0.6628091  0.64712274 0.70202476]\n",
            "  [0.66462755 0.6489413  0.70384324]\n",
            "  ...\n",
            "  [0.70731676 0.6916305  0.74653244]\n",
            "  [0.73606485 0.7203786  0.7752806 ]\n",
            "  [0.72286755 0.7071813  0.76208323]]]\n"
          ]
        }
      ]
    },
    {
      "cell_type": "code",
      "source": [
        "input_shape = (IMAGE_SIZE, IMAGE_SIZE, CHANNELS)\n",
        "n_classes = 38\n",
        "\n",
        "model = models.Sequential([\n",
        "    layers.InputLayer(input_shape=input_shape),\n",
        "    layers.Conv2D(32, kernel_size = (3,3), activation='relu'),\n",
        "    layers.MaxPooling2D((2, 2)),\n",
        "    layers.Conv2D(64,  kernel_size = (3,3), activation='relu'),\n",
        "    layers.MaxPooling2D((2, 2)),\n",
        "    layers.Conv2D(64,  kernel_size = (3,3), activation='relu'),\n",
        "    layers.MaxPooling2D((2, 2)),\n",
        "    layers.Conv2D(64, (3, 3), activation='relu'),\n",
        "    layers.MaxPooling2D((2, 2)),\n",
        "    layers.Conv2D(64, (3, 3), activation='relu'),\n",
        "    layers.MaxPooling2D((2, 2)),\n",
        "    layers.Conv2D(64, (3, 3), activation='relu'),\n",
        "    layers.MaxPooling2D((2, 2)),\n",
        "    layers.Flatten(),\n",
        "    layers.Dense(64, activation='relu'),\n",
        "    layers.Dense(n_classes, activation='softmax'),\n",
        "])"
      ],
      "metadata": {
        "id": "Ve0DksJBzB8Z"
      },
      "execution_count": null,
      "outputs": []
    },
    {
      "cell_type": "code",
      "source": [
        "model.summary()"
      ],
      "metadata": {
        "colab": {
          "base_uri": "https://localhost:8080/"
        },
        "id": "9jM1-5p9zFTt",
        "outputId": "37ef897b-0696-4939-d43a-6a9ce5efe313"
      },
      "execution_count": null,
      "outputs": [
        {
          "output_type": "stream",
          "name": "stdout",
          "text": [
            "Model: \"sequential\"\n",
            "_________________________________________________________________\n",
            " Layer (type)                Output Shape              Param #   \n",
            "=================================================================\n",
            " conv2d (Conv2D)             (None, 254, 254, 32)      896       \n",
            "                                                                 \n",
            " max_pooling2d (MaxPooling2D  (None, 127, 127, 32)     0         \n",
            " )                                                               \n",
            "                                                                 \n",
            " conv2d_1 (Conv2D)           (None, 125, 125, 64)      18496     \n",
            "                                                                 \n",
            " max_pooling2d_1 (MaxPooling  (None, 62, 62, 64)       0         \n",
            " 2D)                                                             \n",
            "                                                                 \n",
            " conv2d_2 (Conv2D)           (None, 60, 60, 64)        36928     \n",
            "                                                                 \n",
            " max_pooling2d_2 (MaxPooling  (None, 30, 30, 64)       0         \n",
            " 2D)                                                             \n",
            "                                                                 \n",
            " conv2d_3 (Conv2D)           (None, 28, 28, 64)        36928     \n",
            "                                                                 \n",
            " max_pooling2d_3 (MaxPooling  (None, 14, 14, 64)       0         \n",
            " 2D)                                                             \n",
            "                                                                 \n",
            " conv2d_4 (Conv2D)           (None, 12, 12, 64)        36928     \n",
            "                                                                 \n",
            " max_pooling2d_4 (MaxPooling  (None, 6, 6, 64)         0         \n",
            " 2D)                                                             \n",
            "                                                                 \n",
            " conv2d_5 (Conv2D)           (None, 4, 4, 64)          36928     \n",
            "                                                                 \n",
            " max_pooling2d_5 (MaxPooling  (None, 2, 2, 64)         0         \n",
            " 2D)                                                             \n",
            "                                                                 \n",
            " flatten (Flatten)           (None, 256)               0         \n",
            "                                                                 \n",
            " dense (Dense)               (None, 64)                16448     \n",
            "                                                                 \n",
            " dense_1 (Dense)             (None, 38)                2470      \n",
            "                                                                 \n",
            "=================================================================\n",
            "Total params: 186,022\n",
            "Trainable params: 186,022\n",
            "Non-trainable params: 0\n",
            "_________________________________________________________________\n"
          ]
        }
      ]
    },
    {
      "cell_type": "code",
      "source": [
        "model.compile(\n",
        "    optimizer='adam',\n",
        "    loss=tf.keras.losses.SparseCategoricalCrossentropy(from_logits=False),\n",
        "    metrics=['accuracy']\n",
        ")\n"
      ],
      "metadata": {
        "id": "W_BujKLUzH_p"
      },
      "execution_count": null,
      "outputs": []
    },
    {
      "cell_type": "code",
      "source": [
        "history = model.fit(\n",
        "    train_generator,\n",
        "    batch_size=32,\n",
        "    verbose=1,\n",
        "    epochs=20,\n",
        ")"
      ],
      "metadata": {
        "colab": {
          "base_uri": "https://localhost:8080/"
        },
        "id": "dwQzvZxqzLRV",
        "outputId": "d53dbd8b-23d6-487f-c734-bc3d4a6d91ef"
      },
      "execution_count": null,
      "outputs": [
        {
          "output_type": "stream",
          "name": "stdout",
          "text": [
            "Epoch 1/20\n",
            "2197/2197 [==============================] - 1170s 532ms/step - loss: 1.4748 - accuracy: 0.5623\n",
            "Epoch 2/20\n",
            "2197/2197 [==============================] - 1126s 512ms/step - loss: 0.5734 - accuracy: 0.8154\n",
            "Epoch 3/20\n",
            " 652/2197 [=======>......................] - ETA: 12:32 - loss: 0.4425 - accuracy: 0.8560"
          ]
        }
      ]
    },
    {
      "cell_type": "code",
      "source": [],
      "metadata": {
        "id": "8swsT15wQg7H"
      },
      "execution_count": null,
      "outputs": []
    }
  ]
}